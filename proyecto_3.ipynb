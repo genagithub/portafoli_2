{
 "cells": [
  {
   "cell_type": "markdown",
   "metadata": {},
   "source": [
    "## Python + SQl"
   ]
  },
  {
   "cell_type": "code",
   "execution_count": 1,
   "metadata": {},
   "outputs": [],
   "source": [
    "password = input(\"Introduzca su contraseña de usuario Root\")"
   ]
  },
  {
   "cell_type": "code",
   "execution_count": 69,
   "metadata": {},
   "outputs": [],
   "source": [
    "import mysql.connector\n",
    "import pandas as pd\n",
    "import plotly.express as px\n",
    "import dash\n",
    "import dash_core_components as dcc\n",
    "import dash_html_components as html\n",
    "from dash.dependencies import Input, Output\n",
    "\n",
    "# realizando una conexión a una bases de datos en MySQL\n",
    "\n",
    "connect = mysql.connector.connect(host=\"localhost\",                                             \n",
    "                                   user=\"root\",\n",
    "                                   password=password,\n",
    "                                   port=\"3306\",\n",
    "                                   database=\"northwind\",\n",
    "                                   auth_plugin=\"mysql_native_password\")  "
   ]
  },
  {
   "cell_type": "markdown",
   "metadata": {},
   "source": [
    "#### Structured Query Language\n",
    "Obteniendo la informacón del almacén informático mas organizado, las bases de datos relacionales, de forma resumida son un cúmulo de datos pertenecientes a un mismo contexto y organizados sistemáticamente para su posterior uso y cuya manera de interactuar con el servidor es mediante SQL"
   ]
  },
  {
   "cell_type": "code",
   "execution_count": null,
   "metadata": {},
   "outputs": [],
   "source": [
    "first_queries = connect.cursor()\n",
    "\n",
    "first_queries.execute('''create view order_details_cash as\n",
    "                        select OrderID, od.ProductID, Quantity, Price * Quantity as product_cash from OrderDetails od\n",
    "                        join Products p on od.ProductID = p.ProductID;''')\n",
    "\n",
    "first_queries.execute('''create view products_revenue as\n",
    "                        select p.ProductID, ProductName, sum(product_cash) as product_revenue, sum(Quantity) from order_details_cash odc\n",
    "                        join Products p on p.ProductID = odc.ProductID\n",
    "                        group by p.ProductID;''')\n",
    "\n",
    "first_queries.execute('''select * from products_revenue where product_revenue > (select avg(product_revenue) from products_revenue)\n",
    "                        order by product_revenue desc''')\n",
    "\n",
    "df_products = pd.DataFrame(first_queries.fetchall())\n",
    "df_products.columns = [\"product_id\",\"product\",\"product_revenue\",\"total_quantity\"]\n",
    "\n",
    "mean_products = df_products[\"product_revenue\"].mean()\n",
    "\n",
    "df_products"
   ]
  },
  {
   "cell_type": "markdown",
   "metadata": {},
   "source": [
    "##### Primer Data Frame constituido por los productos vendidos, su cantidad e ingresos"
   ]
  },
  {
   "cell_type": "code",
   "execution_count": null,
   "metadata": {},
   "outputs": [],
   "source": [
    "second_queries = connect.cursor()\n",
    "\n",
    "second_queries.execute('''create view orders_revenue as\n",
    "                        select o.OrderID, sum(product_cash) as order_revenue, sum(Quantity) as total_quantity, EmployeeID from order_details_cash odc\n",
    "                        join Orders o on o.OrderID = odc.OrderID\n",
    "                        group by o.OrderID\n",
    "                        order by order_revenue desc;''')\n",
    "\n",
    "second_queries.execute('''select * from orders_revenue where order_revenue > (select avg(order_revenue) from orders_revenue)''')\n",
    "\n",
    "df_orders = pd.DataFrame(second_queries.fetchall())\n",
    "df_orders.drop(3,axis=1,inplace=True)\n",
    "df_orders.columns = [\"order_id\",\"order_revenue\",\"total_quantity\"]\n",
    "\n",
    "df_orders[\"order_id\"] = df_orders[\"order_id\"].astype(str)\n",
    "\n",
    "mean_orders = df_orders[\"order_revenue\"].mean()\n",
    "\n",
    "df_orders"
   ]
  },
  {
   "cell_type": "markdown",
   "metadata": {},
   "source": [
    "##### Segundo Data frame constituido por las órdenes que contenían los productos, cantidad de estos e ingresos"
   ]
  },
  {
   "cell_type": "code",
   "execution_count": null,
   "metadata": {},
   "outputs": [],
   "source": [
    "third_queries = connect.cursor()\n",
    "\n",
    "third_queries.execute('''select e.EmployeeID, concat (FirstName,\" \",LastName), sum(order_revenue) as employee_revenue, sum(total_quantity) from Employees e\n",
    "                        join orders_revenue o on o.EmployeeID = e.EmployeeID \n",
    "                        group by e.EmployeeID\n",
    "                        order by employee_revenue''')\n",
    "\n",
    "df_employees = pd.DataFrame(third_queries.fetchall())\n",
    "df_employees.columns = [\"employee_id\",\"name\",\"employee_revenue\",\"total_quantity\"]\n",
    "\n",
    "mean_employees = df_employees[\"employee_revenue\"].mean()\n",
    "\n",
    "df_employees"
   ]
  },
  {
   "cell_type": "markdown",
   "metadata": {},
   "source": [
    "##### Tercer y último Data Frame constituido por los empleados que realizaron las ventas, cantidad de productos e ingresos"
   ]
  },
  {
   "cell_type": "code",
   "execution_count": 130,
   "metadata": {},
   "outputs": [],
   "source": [
    "best_product = df_products.iloc[0,:] # Producto con el mayor ingreso de venta\n",
    "best_product_id = best_product[\"product_id\"]\n",
    "\n",
    "four_queries = connect.cursor()\n",
    "\n",
    "four_queries.execute(f'''select OrderID, Quantity from OrderDetails\n",
    "                        where ProductID = {best_product_id}''')\n",
    "\n",
    "best_product_quantity_ordered = pd.DataFrame(four_queries.fetchall())\n",
    "best_product_quantity_ordered.columns = [\"order_id\",\"quantity\"]\n",
    "\n",
    "# ---------------------------------------------------------------------------------------------------\n",
    "\n",
    "best_order = df_orders.iloc[0,:] # Órden con el mayor ingreso de venta\n",
    "best_order_id = int(best_order[\"order_id\"])\n",
    "\n",
    "five_queries = connect.cursor()\n",
    "\n",
    "five_queries.execute(f'''select ProductName, Quantity from Products p\n",
    "                        join OrderDetails od on od.ProductID = p.ProductID\n",
    "                        where od.OrderID = {best_order_id}''')\n",
    "\n",
    "best_order_products = pd.DataFrame(five_queries.fetchall())\n",
    "best_order_products.columns = [\"product\", \"quantity\"]\n",
    "\n",
    "# ---------------------------------------------------------------------------------------------------\n",
    "\n",
    "df_employees.sort_values(by=\"employee_revenue\", ascending=False, inplace=True)\n",
    "best_employee = df_employees.iloc[0,:] # Empleado con el mayor ingreso de venta\n",
    "best_employee_id = best_employee[\"employee_id\"]\n",
    "\n",
    "six_queries = connect.cursor()\n",
    "\n",
    "six_queries.execute(f'''select ProductName, sum(Quantity) from order_details_cash odc\n",
    "                        join Products p on p.ProductID = odc.ProductID\n",
    "                        join Orders o on o.OrderID = odC.OrderID join Employees e on o.EmployeeID = e.EmployeeID\n",
    "                        where e.EmployeeID = {best_employee_id}\n",
    "                        group by p.ProductID''')\n",
    "\n",
    "best_employee_products_ordered = pd.DataFrame(six_queries.fetchall())\n",
    "best_employee_products_ordered.columns = [\"product\", \"quantity\"]"
   ]
  },
  {
   "cell_type": "code",
   "execution_count": null,
   "metadata": {},
   "outputs": [],
   "source": [
    "connect.close()"
   ]
  },
  {
   "cell_type": "markdown",
   "metadata": {},
   "source": [
    "#### Dashboard que refleja los KPIs(Key performance Indicators) y los mejores en desempeño"
   ]
  },
  {
   "cell_type": "code",
   "execution_count": null,
   "metadata": {},
   "outputs": [],
   "source": [
    "app = dash.Dash(__name__)\n",
    "\n",
    "app.layout = html.Div(id=\"body\",children=[\n",
    "    html.Div(id=\"dropdown_div\",className=\"e3_dropdown_div\",children=[\n",
    "            dcc.Dropdown(id=\"dropdown\",className=\"e3_dropdown\",\n",
    "                        options = [\n",
    "                            {\"label\":\"Empleados\",\"value\":\"name\"},\n",
    "                            {\"label\":\"Productos\",\"value\":\"product\"},\n",
    "                            {\"label\":\"Órdenes\",\"value\":\"order_id\"}\n",
    "                        ],\n",
    "                        value=\"name\",\n",
    "                        multi=False,\n",
    "                        clearable=False)\n",
    "    ]),\n",
    "    dcc.Graph(id=\"graph-1\",figure={}),\n",
    "    html.H1(\"Mayores ingresos\",className=\"e3_title\"),\n",
    "    html.Div(className=\"e3_container\",children=[\n",
    "        html.Div(id=\"data_1\",className=\"e3_children\",style={\"color\":\"blue\"},children=[   \n",
    "            html.H2(\"Productos\",style={\"font-size\":\"1.15em\",\"color\":\"blue\",\"font-family\":\"sans-serif\"}),\n",
    "            html.P(f\"Promedio: {round(mean_products,1)}$\",className=\"e3_mean\",style={\"color\":\"blue\"}),         \n",
    "            html.Ul(className=\"e3_ul\",style={\"color\":\"blue\"},children=[\n",
    "                html.Li(f\"Producto: {best_product[\"product\"]}\",className=\"e3_list\"),\n",
    "                html.Li(f\"Cantidad total vendida: {best_product[\"total_quantity\"]}\",className=\"e3_list\"),\n",
    "                html.Li(f\"Ingresos totales: {best_product[\"product_revenue\"]}$\",className=\"e3_list\")\n",
    "            ])\n",
    "        ]),\n",
    "        html.Div(id=\"data_2\",className=\"e3_children\",children=[\n",
    "            html.H2(\"Empleados\",style={\"font-size\":\"1.15em\",\"color\":\"red\",\"font-family\":\"sans-serif\"}),\n",
    "            html.P(f\"Promedio: {round(mean_employees,1)}$\",className=\"e3_mean\",style={\"color\":\"red\"}),\n",
    "            html.Ul(className=\"e3_ul\",style={\"color\":\"red\"},children=[\n",
    "                html.Li(f\"Nombre: {best_employee[\"name\"]}\",className=\"e3_list\"),\n",
    "                html.Li(f\"Cantidad total vendida: {best_employee[\"total_quantity\"]}\",className=\"e3_list\"),\n",
    "                html.Li(f\"Ingresos totales: {best_employee[\"employee_revenue\"]}$\",className=\"e3_list\")\n",
    "            ])\n",
    "        ]),\n",
    "        html.Div(id=\"data_3\",className=\"e3_children\",children=[\n",
    "            html.H2(\"Órdenes\",style={\"font-size\":\"1.15em\",\"color\":\"green\",\"font-family\":\"sans-serif\"}),\n",
    "            html.P(f\"Promedio: {round(mean_orders,1)}$\",className=\"e3_mean\",style={\"color\":\"green\"}),\n",
    "            html.Ul(className=\"e3_ul\",style={\"color\":\"green\"},children=[\n",
    "                html.Li(f\"Órden: {best_order[\"order_id\"]}\",className=\"e3_list\"),\n",
    "                html.Li(f\"Cantidad total vendida: {best_order[\"total_quantity\"]}\",className=\"e3_list\"),\n",
    "                html.Li(f\"Ingresos totales: {best_order[\"order_revenue\"]}$\",className=\"e3_list\")\n",
    "            ])\n",
    "        ]) \n",
    "    ]),\n",
    "    html.H1(\"Detalles\", className=\"e3_title\"),\n",
    "    dcc.Graph(id=\"graph-2\",figure={})\n",
    "])\n",
    "\n",
    "@app.callback(\n",
    "    [Output(component_id=\"graph-1\",component_property=\"figure\"),\n",
    "    Output(component_id=\"graph-2\",component_property=\"figure\")],\n",
    "    [Input(component_id=\"dropdown\",component_property=\"value\")]\n",
    ")\n",
    "\n",
    "def update_graph(slct_data):\n",
    "    \n",
    "    if slct_data == \"name\":\n",
    "        graph_1 = px.bar(df_employees, x=slct_data, y=\"employee_revenue\", color_discrete_sequence=['red'], text_auto='.2s', title=\"Ingresos de empleados\", labels=dict(name=\"Empleados\", employee_revenue=\"Ingresos\"))\n",
    "        graph_2 = px.bar(best_employee_products_ordered, x=\"product\", y=\"quantity\", color_discrete_sequence=['red'], title=\"Productos ordenados por el empleado que generó el mayor ingreso\", labels=dict(product=\"Productos\", quantity=\"Cantidad ordenada\"))\n",
    "    elif slct_data == \"product\":\n",
    "        graph_1 = px.bar(df_products, x=slct_data, y=\"product_revenue\", color_discrete_sequence=['blue'], text_auto='.2s', title=\"Ingresos de productos mayores al promedio\", labels=dict(product=\"Productos\", product_revenue=\"Ingresos\"))\n",
    "        graph_1.update_xaxes(tickangle=35, tickfont_size=8)\n",
    "        graph_2 = px.bar(best_product_quantity_ordered, x=\"order_id\", y=\"quantity\", color_discrete_sequence=['blue'], title=\"Cantidades ordenadas del producto que generó el mayor ingreso\", labels=dict(order_id=\"Órdenes\", quantity=\"Cantidad ordenada\"))\n",
    "    elif slct_data == \"order_id\":\n",
    "        graph_1 = px.bar(df_orders, x=slct_data, y=\"order_revenue\", color_discrete_sequence=['green'], title=\"Ingresos de órdenes mayores al promedio\", labels=dict(order_id=\"Órdenes\", order_revenue=\"Ingresos\"))\n",
    "        graph_1.update_xaxes(tickfont_size=9)\n",
    "        graph_2 = px.bar(best_order_products, x=\"product\", y=\"quantity\", color_discrete_sequence=['green'], title=\"Productos de la órden que generó el mayor ingreso\", labels=dict(product=\"Productos\", quantity=\"Cantidad ordenada\"))\n",
    "    \n",
    "    return graph_1, graph_2    \n",
    "    \n",
    "if __name__ == \"__main__\":\n",
    "    app.run_server(debug=False)"
   ]
  }
 ],
 "metadata": {
  "kernelspec": {
   "display_name": "Python 3",
   "language": "python",
   "name": "python3"
  },
  "language_info": {
   "codemirror_mode": {
    "name": "ipython",
    "version": 3
   },
   "file_extension": ".py",
   "mimetype": "text/x-python",
   "name": "python",
   "nbconvert_exporter": "python",
   "pygments_lexer": "ipython3",
   "version": "3.12.2"
  }
 },
 "nbformat": 4,
 "nbformat_minor": 2
}
