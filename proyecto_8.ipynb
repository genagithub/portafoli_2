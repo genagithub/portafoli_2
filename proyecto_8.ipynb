{
 "cells": [
  {
   "cell_type": "markdown",
   "metadata": {},
   "source": [
    "### Web Scraping\n",
    " Técnica basada en extraer datos que provengan de la Web, se requieren de librerías específicas para emplearlo, algunas de estas contienen módulos que nos permiten realizar un manejo de excepciones y que debido a los diferentes desafíos e inconvenientes que trae la navegación como usuario en la Web contribuyen para una recolección de datos exitosa."
   ]
  },
  {
   "cell_type": "code",
   "execution_count": 89,
   "metadata": {},
   "outputs": [],
   "source": [
    "import pandas as pd\n",
    "import numpy as np\n",
    "from selenium import webdriver\n",
    "import time\n",
    "from selenium.webdriver.common.by import By\n",
    "from selenium.webdriver.common.keys import Keys\n",
    "from selenium.webdriver.support.ui import WebDriverWait\n",
    "from selenium.webdriver.support import expected_conditions as EC\n",
    "from selenium.common.exceptions import NoSuchElementException, ElementNotInteractableException\n",
    "import plotly.express as px\n",
    "import dash\n",
    "import dash_core_components as dcc\n",
    "import dash_html_components as html\n",
    "from dash.dependencies import Input, Output"
   ]
  },
  {
   "cell_type": "markdown",
   "metadata": {},
   "source": [
    "#### Extrayendo las ofertas de empleo (Data Science) en Linkedin del último mes"
   ]
  },
  {
   "cell_type": "code",
   "execution_count": null,
   "metadata": {},
   "outputs": [],
   "source": [
    "option = webdriver.ChromeOptions()\n",
    "option.add_argument(\"--window-size=1300,700\")\n",
    "\n",
    "driver = webdriver.Chrome(options=option)\n",
    "    \n",
    "try:\n",
    "    driver.get(\"https://www.linkedin.com\")\n",
    "    job_search = WebDriverWait(driver, 10).until(EC.presence_of_element_located(\n",
    "        (By.XPATH, '//a[@href=\"https://www.linkedin.com/jobs/search?trk=guest_homepage-basic_guest_nav_menu_jobs\"]'))\n",
    "    )\n",
    "    job_search.click()\n",
    "    \n",
    "except NoSuchElementException:   \n",
    "    driver.back()       \n",
    "    job_search = WebDriverWait(driver, 10).until(EC.presence_of_element_located(\n",
    "        (By.XPATH, '//a[@href=\"https://www.linkedin.com/jobs/search?trk=guest_homepage-basic_guest_nav_menu_jobs\"]'))\n",
    "    )\n",
    "    job_search.click()\n",
    "    \n",
    "finally:  \n",
    "    quit = WebDriverWait(driver, 10).until(EC.presence_of_element_located(\n",
    "        (By.XPATH, '//button[@aria-label=\"Descartar\"]'))\n",
    "    )\n",
    "    quit.click()\n",
    "    time.sleep(5)\n",
    "    \n",
    "    input_workstation = driver.find_element(By.XPATH, '//input[@aria-controls=\"job-search-bar-keywords-typeahead-list\"]')\n",
    "    input_workstation.send_keys(\"Data Science\")\n",
    "    input_location = driver.find_element(By.XPATH, '//input[@aria-controls=\"job-search-bar-location-typeahead-list\"]')\n",
    "    input_location.clear()\n",
    "    input_location.send_keys(\"Argentina\")\n",
    "    input_location.send_keys(Keys.RETURN)    \n",
    "    \n",
    "    driver.find_element(By.XPATH, '//button[@aria-label=\"Filtro «Fecha de publicación». Se ha aplicado el filtro «Cualquier momento». Al hacer clic en este botón, se muestran todas las opciones del filtro «Fecha de publicación».\"]').click()\n",
    "    driver.find_element(By.XPATH, '//input[@id=\"f_TPR-1\"]').click()\n",
    "    driver.find_element(By.CLASS_NAME, 'filter__submit-button').click()\n",
    "    \n",
    "    workstation = driver.find_elements(By.CLASS_NAME, 'base-search-card__title')\n",
    "    company = driver.find_elements(By.CLASS_NAME, 'hidden-nested-link')\n",
    "    location = driver.find_elements(By.CLASS_NAME, 'job-search-card__location')\n",
    "    time = driver.find_elements(By.CLASS_NAME, 'job-search-card__listdate')\n",
    " \n",
    "# -------- Una vez obtenidos los datos los organizamos en un Data Frame --------\n",
    "\n",
    "data = {\n",
    "    \"workstation\": [],\n",
    "    \"company\": [],\n",
    "    \"location\": [],\n",
    "    \"time\": []\n",
    "}\n",
    "\n",
    "len_col = np.array([len(workstation),len(location),len(company),len(time)])\n",
    "min_len_col = len_col.min()\n",
    "\n",
    "def data_org(data, column, element):\n",
    "    for e in element:\n",
    "        data[column].append(e.text)\n",
    "        if len(data[column]) == min_len_col:\n",
    "            break\n",
    "    return data\n",
    "\n",
    "data_org(data, \"workstation\", workstation)\n",
    "data_org(data, \"company\", company)\n",
    "data_org(data, \"location\", location)\n",
    "data_org(data, \"time\", time)\n",
    "\n",
    "df = pd.DataFrame(data)\n",
    "df"
   ]
  },
  {
   "cell_type": "markdown",
   "metadata": {},
   "source": [
    "### Data Wrangling\n",
    "Técnica que se emplea para procesar, manipular y transformar variables con el fin de crear información valiosa, bien organizada y estructurada."
   ]
  },
  {
   "cell_type": "code",
   "execution_count": null,
   "metadata": {},
   "outputs": [],
   "source": [
    "print(df[\"location\"].value_counts())\n",
    "\n",
    "# Mapeo de datos: dado que muchas ubicaciones son similares y sobreinforman, las reemplazamos y resumimos la iformación\n",
    "\n",
    "data_mapping = {\n",
    "    \"Ciudad Autónoma de Buenos Aires, Provincia de Buenos Aires, Argentina\": \"Ciudad Autónoma de Buenos Aires, Argentina\",\n",
    "    \"Buenos Aires, Provincia de Buenos Aires, Argentina\": \"Provincia de Buenos Aires, Argentina\",\n",
    "    \"Buenos Aires y alrededores\": \"Provincia de Buenos Aires, Argentina\"\n",
    "}\n",
    "\n",
    "df[\"location\"] = df[\"location\"].apply(lambda x : data_mapping.get(x, x))\n",
    "print(\"---------------------------------------------------------------------------\")\n",
    "print(df[\"location\"].value_counts())"
   ]
  },
  {
   "cell_type": "markdown",
   "metadata": {},
   "source": [
    "#### Dashboard que revela la distribución de ubicaciones y fechas de publicación de las ofertas"
   ]
  },
  {
   "cell_type": "code",
   "execution_count": null,
   "metadata": {},
   "outputs": [],
   "source": [
    "app = dash.Dash(__name__)\n",
    "\n",
    "app.layout = html.Div(id=\"body\",className=\"e8_body\",children=[\n",
    "    html.H1(\"Ofertas de trabajo en Linkedin\", className=\"e8_title\"),\n",
    "        dcc.Dropdown(id=\"dropdown\",className=\"e8_dropdown\",\n",
    "                    options = [\n",
    "                        {\"label\":\"Ubiación (País, Ciudad, Barrio)\",\"value\":\"location\"},\n",
    "                        {\"label\":\"Tiempo de publicación\",\"value\":\"time\"},\n",
    "                    ],\n",
    "                    value=\"location\",\n",
    "                    multi=False,\n",
    "                    clearable=False),\n",
    "    html.Div(className=\"e8_div\",children=[\n",
    "        dcc.Graph(id=\"graph_1\",className=\"e8_graph\",figure={}),\n",
    "        dcc.Graph(id=\"graph_2\",className=\"e8_graph\",figure={})\n",
    "    ])\n",
    "])\n",
    "\n",
    "@app.callback(\n",
    "    [Output(component_id=\"graph_1\",component_property=\"figure\"),\n",
    "    Output(component_id=\"graph_2\",component_property=\"figure\")],\n",
    "    [Input(component_id=\"dropdown\",component_property=\"value\")]\n",
    ")\n",
    "\n",
    "def update_graph(slct_var):\n",
    "    values_count = df[slct_var].value_counts().reset_index()\n",
    "    barplot = px.bar(values_count, x=slct_var, y=\"count\", title='Cantidades contadas')\n",
    "    if slct_var == \"location\":\n",
    "        barplot.update_layout(xaxis=dict(tickfont=dict(size=7)))\n",
    "    piechart = px.pie(values_count, values='count', names=slct_var, title='Porcentages de cantidades')\n",
    "    if slct_var == \"location\":\n",
    "        piechart.update_layout(legend=dict(font=dict(size=6)))\n",
    "    \n",
    "    return barplot, piechart\n",
    "    \n",
    "if __name__ == \"__main__\":\n",
    "    app.run_server(debug=False)"
   ]
  },
  {
   "cell_type": "markdown",
   "metadata": {},
   "source": [
    "#### Observación y opinión\n",
    "Como podemos observar gran parte de las ofertas no especifican su ubicación, aunque bastantes puesto son de forma remota, para Juniors o Trainees es diferente a estos casos y si me parece necesario por lo menos indicar la comuna en que se encuentran las oficinas de trabajo."
   ]
  }
 ],
 "metadata": {
  "kernelspec": {
   "display_name": "Python 3",
   "language": "python",
   "name": "python3"
  },
  "language_info": {
   "codemirror_mode": {
    "name": "ipython",
    "version": 3
   },
   "file_extension": ".py",
   "mimetype": "text/x-python",
   "name": "python",
   "nbconvert_exporter": "python",
   "pygments_lexer": "ipython3",
   "version": "3.12.2"
  }
 },
 "nbformat": 4,
 "nbformat_minor": 2
}
