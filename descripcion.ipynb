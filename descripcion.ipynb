{
 "cells": [
  {
   "cell_type": "markdown",
   "metadata": {},
   "source": [
    "#### Proyecto 1 \n",
    "Trabajando con el Dataset 'Titanic', donde describimos las características numéricas y categóricas de la variable objetivo, y cómo estas influyen en su clase asociada. Por último, se crea un dashboard que muestra el rendimiento de un modelo de clasificación desarrollado.\n",
    "_________________________________________________________________________________________________________"
   ]
  },
  {
   "cell_type": "markdown",
   "metadata": {},
   "source": [
    "#### Proyecto 2 \n",
    "Ejemplo que utiliza el popular Dataset 'Tips', donde introducimos la regresión lineal y las suposiciones que requiere su modelación. Al finalizar, se constituye un dashboard que ilustra un EDA(gráficos de distribución, pruebas de normalidad, medidas) y el modelo lineal.\n",
    "_________________________________________________________________________________________________________"
   ]
  },
  {
   "cell_type": "markdown",
   "metadata": {},
   "source": [
    "#### Proyecto 3 \n",
    "En esta ocasión se obtiene la información de una Database, más precisamente de MySQL. Se realizan consultas con el fin de conseguir los datos de diferentes entidades, en este caso de componentes de negocio y se analizan a los que obtuvieron mejores KPIs.\n",
    "_________________________________________________________________________________________________________"
   ]
  },
  {
   "cell_type": "markdown",
   "metadata": {},
   "source": [
    "#### Proyecto 4 \n",
    "Al igual que el segundo ejemplo, el Dataset empleado es 'Iris', muy conocido entre la comunidad. Se genera un programa cuya función es graficar los datos que le enviamos por medio de una entrada y asignarles su clase determinada por un clasificador.\n",
    "_________________________________________________________________________________________________________"
   ]
  },
  {
   "cell_type": "markdown",
   "metadata": {},
   "source": [
    "#### Proyecto 5 \n",
    "Ejemplo basado analizar la distribución de frecuencia en las distintas variables categóricas(nominales y ordinales) y en la implementación de Bootsrapping mediante un metamodelo de Bagging. Como en todos los otros casos, se realiza una visualización final.\n",
    "_________________________________________________________________________________________________________"
   ]
  },
  {
   "cell_type": "markdown",
   "metadata": {},
   "source": [
    "#### Proyecto 6\n",
    "Mayor volumen de datos implementado entre los ejemplos, se desarrolla un aprendizaje supervisado y no supervisado, profundizamos en el metaaprendizaje y nos apoyamos en una función que ayudará a asignar los hiperparámetros óptimos del modelo.\n",
    "_________________________________________________________________________________________________________"
   ]
  },
  {
   "cell_type": "markdown",
   "metadata": {},
   "source": [
    "#### Proyecto 7 \n",
    "Análisis profundo de series temporales, se analizan diferentes conceptos de esta área para determinar la creación de un modelo ajustado adecuadamente que sea capaz de realizar un un pronóstico funcional según los insights de las distintas series examinadas.\n",
    "_________________________________________________________________________________________________________"
   ]
  },
  {
   "cell_type": "markdown",
   "metadata": {},
   "source": [
    "#### Proyecto 8 \n",
    "Web Scraping, se utiliza la librería Selenium y el manejo de excepciones con el objetivo de interactuar con Linkedin y extraer los datos provenientes para su posterior organización, limpieza y visualización, se otorga una opinión final.\n",
    "_________________________________________________________________________________________________________"
   ]
  }
 ],
 "metadata": {
  "language_info": {
   "name": "python"
  }
 },
 "nbformat": 4,
 "nbformat_minor": 2
}
