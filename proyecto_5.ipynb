{
 "cells": [
  {
   "cell_type": "markdown",
   "metadata": {},
   "source": [
    "### Distribución de frecuencia \n",
    "Es el agrupamiento de variables que se utiliza para observar la presencia de cada una en el conjunto, pueden calcularse como valores decimales de 0 a 1 que representen su porción perteneciente en las observaciones y la probabilidad de obtener esa variable asociada ."
   ]
  },
  {
   "cell_type": "code",
   "execution_count": null,
   "metadata": {},
   "outputs": [],
   "source": [
    "import pandas as pd\n",
    "import numpy as np\n",
    "import dash\n",
    "import dash_core_components as dcc\n",
    "import dash_html_components as html\n",
    "from dash.dependencies import Input, Output\n",
    "import plotly.express as px\n",
    "from sklearn.naive_bayes import GaussianNB\n",
    "from sklearn.ensemble import BaggingClassifier\n",
    "\n",
    "df = pd.read_csv(\"data/student_performance.csv\")\n",
    "\n",
    "# ignoramos el identificador (StudentID) y la variable objetivo\n",
    "\n",
    "for c in df.columns[1:-1]:\n",
    "    unique_values = df[c].unique()\n",
    "    if len(unique_values) == 2:\n",
    "        print(f\"Valores únicos en '{c}': {df[c].unique()} (Binario)\\n---------------------------------------------------------------------------------------------------------\")\n",
    "    else:\n",
    "        print(f\"Valores únicos en '{c}': {df[c].unique()}\\n---------------------------------------------------------------------------------------------------------\")"
   ]
  },
  {
   "cell_type": "markdown",
   "metadata": {},
   "source": [
    "#### Dsitribución de frecuencia en categóricas binarias"
   ]
  },
  {
   "cell_type": "code",
   "execution_count": null,
   "metadata": {},
   "outputs": [],
   "source": [
    "def percentage_binary(df, variable, category_1, category_2):\n",
    "    variable_mean = df.groupby(\"GradeClass\")[variable].mean().reset_index(name=f\"{variable}_mean\")\n",
    "    variable_mean[f\"{variable}_mean\"] = variable_mean[f\"{variable}_mean\"] * 100 \n",
    "    for v in variable_mean.values:\n",
    "        percentage = 100 - v[1]\n",
    "        if percentage >= 50:\n",
    "            percentage = percentage.astype(str)\n",
    "            print(f\"En el grado clase {v[0]} el {percentage[:4]}% de los alumnos {category_1}\")\n",
    "        else:\n",
    "            percentage = v[1].astype(str)\n",
    "            print(f\"En el grado clase {v[0]} el {percentage[:4]}% de los alumnos {category_2}\")\n",
    "    print(\"-------------------------------------------------------------------------------------------------------------\")\n",
    "            \n",
    "gender_percentage = percentage_binary(df,\"Gender\",\"son Hombres\",\"son Mujeres\")\n",
    "tutoring_percentage = percentage_binary(df,\"Tutoring\",\"no tiene tutoría\",\"tiene tutoría\")\n",
    "extracurricular_percentage = percentage_binary(df,\"Extracurricular\",\"no participa en actividades extracurriculares\",\"participa actividades extracurriculares\")\n",
    "sports_percentage = percentage_binary(df,\"Sports\",\"no participa en deportes\",\"participa en deportes\")\n",
    "music_percentage = percentage_binary(df,\"Music\",\"no participa en actividades musicales\",\"participa en actividades musicales\")\n",
    "volunteering_percentage = percentage_binary(df,\"Volunteering\",\"no participa en voluntariado\",\"participa en voluntariado\")"
   ]
  },
  {
   "cell_type": "markdown",
   "metadata": {},
   "source": [
    "#### Distribución de frecuencia en variables categóricas (nominales y ordinales)"
   ]
  },
  {
   "cell_type": "code",
   "execution_count": null,
   "metadata": {},
   "outputs": [],
   "source": [
    "def percentage(df,variable, categories):\n",
    "    unique_values = df[\"GradeClass\"].unique()\n",
    "    for g in np.sort(unique_values):\n",
    "        grade_class = df[df[\"GradeClass\"] == g]\n",
    "        variable_count = grade_class[variable].value_counts().reset_index()\n",
    "        variable_count[variable] = categories\n",
    "        print(f\"{variable} en grado clase {g}\")\n",
    "        for p in variable_count.values:\n",
    "            percentage = (p[1] / variable_count[\"count\"].sum()) * 100\n",
    "            percentage = percentage.astype(str)\n",
    "            print(f\"{p[0]}: {percentage[:4]}%\")\n",
    "        print(\"----------------------------------------\")\n",
    "        \n",
    "ethnicity_percentage = percentage(df,\"Ethnicity\",[\"caucásicos\",\"áfricanos\",\"asiáticos\",\"otros\"])\n",
    "parental_education_percentage = percentage(df,\"ParentalEducation\",[\"ninguno\",\"escuela secundaria\",\"un poco de universidad\",\"licenciatura\",\"superior\"]) \n",
    "parental_support_percentage = percentage(df,\"ParentalSupport\",[\"ninguno\",\"bajo\",\"moderado\",\"alto\",\"muy alto\"])"
   ]
  },
  {
   "cell_type": "markdown",
   "metadata": {},
   "source": [
    "#### Bagging \n",
    "es una de las principales técnicas computacionales de estadística inferencial cuya base es utilizar la sabiduría de las masas, es decir, reforzar el aprendizaje mediante el criterio de distintos metaestimadores que se encargarán de sacar sus propias conclusiones de respectivos datos seleccionados y dependiendo del problema en cuestión se llegará a una respuesta final a través de la media o moda del conjunto de resultados."
   ]
  },
  {
   "cell_type": "code",
   "execution_count": null,
   "metadata": {},
   "outputs": [],
   "source": [
    "naive_bayes = GaussianNB()\n",
    "\n",
    "meta_clf = BaggingClassifier(estimator=naive_bayes, # modelo clasificador base\n",
    "                        n_estimators=100, # cantidad de metaestimadores\n",
    "                        max_samples=0.3, # número de muestras requeridas para cada modelo\n",
    "                        oob_score=True), # se evaluan los datos que no fueron seleccionados\n",
    "\n",
    "meta_clf.fit(df[df.columns[1:-1]],df[\"GradeClass\"])\n",
    "\n",
    "accuracy = model.oob_score_\n",
    "print(f\"Acertividad del modelo con datos de prueba: {accuracy}\")"
   ]
  },
  {
   "cell_type": "markdown",
   "metadata": {},
   "source": [
    "#### Dashboard que refleja los porcentages de grupos de las variables categóricas en el conjunto de datos\n"
   ]
  },
  {
   "cell_type": "code",
   "execution_count": 8,
   "metadata": {},
   "outputs": [
    {
     "data": {
      "text/html": [
       "\n",
       "        <iframe\n",
       "            width=\"100%\"\n",
       "            height=\"650\"\n",
       "            src=\"http://127.0.0.1:8050/\"\n",
       "            frameborder=\"0\"\n",
       "            allowfullscreen\n",
       "            \n",
       "        ></iframe>\n",
       "        "
      ],
      "text/plain": [
       "<IPython.lib.display.IFrame at 0x152562aecf0>"
      ]
     },
     "metadata": {},
     "output_type": "display_data"
    }
   ],
   "source": [
    "app = dash.Dash(__name__)\n",
    "\n",
    "app.layout = html.Div(id=\"body\",className=\"e6_body\",children=[\n",
    "    html.H1(\"Categorías de estudiantes\",id=\"title\",className=\"e6_title\"),\n",
    "    html.Div(id=\"div\",className=\"e6_div\",children=[\n",
    "        html.Div(id=\"div_dropdown\",className=\"e6_div_dropdown\",children=[\n",
    "            dcc.Dropdown(id=\"dropdown_1\",className=\"e6_dropdown\",\n",
    "                        options = [\n",
    "                            {\"label\":\"Grado clase 0\",\"value\":0},\n",
    "                            {\"label\":\"Grado clase 1\",\"value\":1},\n",
    "                            {\"label\":\"Grado clase 2\",\"value\":2},\n",
    "                            {\"label\":\"Grado clase 3\",\"value\":3},\n",
    "                            {\"label\":\"Grado clase 4\",\"value\":4},\n",
    "                        ],\n",
    "                        value=0,\n",
    "                        multi=False,\n",
    "                        clearable=False),\n",
    "            dcc.Dropdown(id=\"dropdown_2\",className=\"e6_dropdown\",\n",
    "                        options = [\n",
    "                            {\"label\":\"Género\",\"value\":\"Gender\"},\n",
    "                            {\"label\":\"Tutoría\",\"value\":\"Tutoring\"},\n",
    "                            {\"label\":\"Actividades extracurriculares\",\"value\":\"Extracurricular\"},\n",
    "                            {\"label\":\"Deportes\",\"value\":\"Sports\"},\n",
    "                            {\"label\":\"Música\",\"value\":\"Music\"},\n",
    "                            {\"label\":\"Voluntariado\",\"value\":\"Volunteering\"},\n",
    "                            {\"label\":\"Etnia\",\"value\":\"Ethnicity\"},\n",
    "                            {\"label\":\"Educación paternal\",\"value\":\"ParentalEducation\"},\n",
    "                            {\"label\":\"Apoyo paternal\",\"value\":\"ParentalSupport\"},\n",
    "                        ],\n",
    "                        value=\"Gender\",\n",
    "                        multi=False,\n",
    "                        clearable=False)\n",
    "        ])\n",
    "    ]),\n",
    "    dcc.Graph(id=\"graph\",className=\"e6_graph\",figure={})\n",
    "])\n",
    "\n",
    "@app.callback(\n",
    "    Output(component_id=\"graph\",component_property=\"figure\"),\n",
    "    [Input(component_id=\"dropdown_1\",component_property=\"value\"),\n",
    "    Input(component_id=\"dropdown_2\",component_property=\"value\")]\n",
    ")\n",
    "\n",
    "def update_graph(slct_var_obj,slct_var_car):\n",
    "    \n",
    "    grade_class = df[df[\"GradeClass\"] == slct_var_obj]\n",
    "    variable_count = grade_class[slct_var_car].value_counts().reset_index()\n",
    "    variable_count.sort_values(slct_var_car, inplace=True)\n",
    "        \n",
    "    if slct_var_car == \"Gender\":\n",
    "        variable_count[slct_var_car] = [\"Hombre\",\"Mujer\"]\n",
    "    elif slct_var_car == \"Tutoring\":\n",
    "        variable_count[slct_var_car] = [\"Sin tutoría\",\"Tutoría\"]\n",
    "    elif slct_var_car == \"Extracurricular\":\n",
    "        variable_count[slct_var_car] = [\"No participa en actividades extracurriculares\",\"Participa en actividades extracurriculares\"]\n",
    "    elif slct_var_car == \"Sports\":\n",
    "        variable_count[slct_var_car] = [\"No participa en deportes\",\"Participa en deportes\"]\n",
    "    elif slct_var_car == \"Music\":\n",
    "        variable_count[slct_var_car] = [\"No participa en actividades musicales\",\"Participa en actividades musicales\"]\n",
    "    elif slct_var_car == \"Volunteering\":\n",
    "        variable_count[slct_var_car] = [\"No participa en voluntariado\",\"Participa en voluntariado\"]\n",
    "    elif slct_var_car == \"Ethnicity\":\n",
    "        variable_count[slct_var_car] = [\"caucásicos\",\"áfricanos\",\"asiáticos\",\"otros\"]\n",
    "    elif slct_var_car == \"ParentalEducation\":\n",
    "        variable_count[slct_var_car] = [\"ninguno\",\"escuela secundaria\",\"un poco de universidad\",\"licenciatura\",\"superior\"]\n",
    "    elif slct_var_car == \"ParentalSupport\":\n",
    "        variable_count[slct_var_car] = [\"ninguno\",\"bajo\",\"moderado\",\"alto\",\"muy alto\"]\n",
    "    \n",
    "    piechart = px.pie(variable_count, values=\"count\", names=slct_var_car, title=f\"Distribución de {slct_var_car} en Grado Clase {slct_var_obj}\")\n",
    "\n",
    "    return piechart\n",
    "\n",
    "if __name__ == \"__main__\":\n",
    "    app.run_server(debug=False)"
   ]
  }
 ],
 "metadata": {
  "kernelspec": {
   "display_name": "Python 3",
   "language": "python",
   "name": "python3"
  },
  "language_info": {
   "codemirror_mode": {
    "name": "ipython",
    "version": 3
   },
   "file_extension": ".py",
   "mimetype": "text/x-python",
   "name": "python",
   "nbconvert_exporter": "python",
   "pygments_lexer": "ipython3",
   "version": "3.12.2"
  }
 },
 "nbformat": 4,
 "nbformat_minor": 2
}
