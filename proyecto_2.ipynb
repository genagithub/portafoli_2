{
 "cells": [
  {
   "cell_type": "markdown",
   "metadata": {},
   "source": [
    "### Regresión lineal \n",
    "El Dataset implementado en cuestión es 'Tips', este contiene diferentes variables independientes que pueden ser utlizadas como varaibles predictoras, sin embargo, en este ejemplo intentaremos desarrollar un modelo lineal que solo se ajuste a una variable y que su aprendizaje sea en base a una correlación entre esta y su variable dependiente, varianzas iguales, distribuciones Gaussianas, etc.\n"
   ]
  },
  {
   "cell_type": "code",
   "execution_count": null,
   "metadata": {},
   "outputs": [],
   "source": [
    "import numpy as np\n",
    "import matplotlib.pyplot as plt\n",
    "import seaborn as sns\n",
    "from plotly.subplots import make_subplots\n",
    "import plotly.express as px\n",
    "import plotly.graph_objects as go\n",
    "import dash\n",
    "import dash_core_components as dcc\n",
    "import dash_html_components as html\n",
    "from dash.dependencies import Input, Output\n",
    "from scipy.stats import pearsonr, zscore, kurtosis, norm, shapiro\n",
    "from sklearn.linear_model import LinearRegression\n",
    "\n",
    "\n",
    "df = sns.load_dataset(\"tips\")\n",
    "df"
   ]
  },
   {
   "cell_type": "markdown",
   "metadata": {},
   "source": [
    "#### Análisis descriptivo\n",
    "Si bien definos utilizar unicamente dos variables en el ejemplo, realizaremos una visualización múltiple de cada relación entre las variables numéricas y las variables categóricas, una vez viendo las distintas fiugras que se crearon podemos observar las siguientes características:\n",
    "- Hay un crecimiento de la variable Y(tips) en los datos que tengan las etiquetas 'Dinner' y 'Male'\n",
    "- Hay mayores frecuencias de la etiqueta 2, 'Male' y 'Dinner' en las variables 'size', 'sex' y 'sime'\n",
    "- En la variable 'smoker' no se determina un comportamiento claro"
   ]
  },
  {
   "cell_type": "code",
   "execution_count": null,
   "metadata": {},
   "outputs": [],
   "source": [
    "fig, ax = plt.subplots(2,2, figsize=(14,12))\n",
    "sns.scatterplot(df,x=\"total_bill\",y=\"tip\",hue=\"sex\",ax=ax[0,0])\n",
    "sns.scatterplot(df,x=\"total_bill\",y=\"tip\",hue=\"smoker\",ax=ax[0,1])\n",
    "sns.scatterplot(df,x=\"total_bill\",y=\"tip\",hue=\"day\",ax=ax[1,0])\n",
    "sns.scatterplot(df,x=\"total_bill\",y=\"tip\",hue=\"time\",ax=ax[1,1])\n",
    "ax[0,0].grid(\"on\")\n",
    "ax[0,1].grid(\"on\")\n",
    "ax[1,0].grid(\"on\")\n",
    "ax[1,1].grid(\"on\")\n",
    "plt.show()"
   ]
  },
  {
   "cell_type": "markdown",
   "metadata": {},
   "source": [
    "#### Análisis exploratorio de datos\n",
    "\n",
    "Es la descripción y el conocimiento profundo en un conjunto de datos, nos ayuda a descubrir y comprender información valiosa para tener en cuenta previamente a generar un modelo, ya mencionamos al análisis bivariado donde utlizábamos más de una variable, ahora tocará realizar un análisis univariado en las variables X(total_bill) y Y(tip) y deducir si se ajustarán al modelo elegido. Algunos puntos clave, sobretodo si trata de una implementación de regresión lineal, a examinar son:\n",
    "\n",
    "Varianza: medida de variabilidad que se basa en dividir por el número de la muestra la sumatoria de los cuadrados entre las diferencias delos valores y la media, nos indica que tan dispersos están nuestros valores con respecto a la media.\n",
    "\n",
    "Correlación(Pearson): valor estadístico que indica la fuerza y dirección de una asociación lineal entre dos variables númericas. \n",
    "\n",
    "Outliers: valores que destacan por su notoria distinción(mayor o menor) a los demás del conjunto. Existen diferentes formas de hallar este tipo de valores, pero la más confiable es específica son los Valores Z: estos vendrían a serlos valores de la muestra representando cierta desviación éstandar. Con esta transformación,determinamos que los Valores Z mayores a 3 se consideran atípicos.La razón del uso de este valor como umbral proviene de la regla empírica, según la cual los datos que se encuentran dentro de 3 desviaciones éstandar con respecto a la media representan el 99.7% de los datos.Así podemos concluir con bastante seguridad que los datos que caen por afuera de este umbral son atípicos, ya que son distintos al 99.7% de los datos.\n"
   ]
  },
  {
   "cell_type": "code",
   "execution_count": null,
   "metadata": {},
   "outputs": [],
   "source": [
    "corr, _ = pearsonr(df[\"total_bill\"],df[\"tip\"])\n",
    "\n",
    "var_x = df[\"total_bill\"].var()\n",
    "var_y = df[\"tip\"].var()\n",
    "\n",
    "df_zscore = df[[\"total_bill\",\"tip\"]]\n",
    "\n",
    "df_zscore[\"total_bill_zscore\"] = zscore(df[\"total_bill\"]).abs()\n",
    "df_zscore[\"tip_zscore\"] = zscore(df[\"tip\"]).abs()\n",
    "\n",
    "outliers = df_zscore.loc[(df_zscore[\"total_bill_zscore\"] > 3) | (df_zscore[\"tip_zscore\"] > 3),[\"total_bill\",\"tip\"]]\n",
    "\n",
    "curtosis_x = kurtosis(df[\"total_bill\"])\n",
    "curtosis_y = kurtosis(df[\"tip\"])\n",
    "\n",
    "print(\"--------------------------------------------------------------------------------------------------\")\n",
    "print(f\"Correlación pearsonr: {round(corr,2)}\")\n",
    "print(f\"Varianza variable X: {round(var_x,2)} | Varianza variable Y: {round(var_x,2)}\")\n",
    "print(f\"Outliers: {outliers.shape[0]}\")\n",
    "print(f\"Curtosis variable X: {round(curtosis_x,1)} | Curtosis variable Y: {round(curtosis_y,1)}\")\n",
    "print(\"--------------------------------------------------------------------------------------------------\")"
   ]
  },
  {
   "cell_type": "markdown",
   "metadata": {},
   "source": [
    "#### Pruebas de normalidad\n",
    "La normalidad o distribución de Gauss es un punto clave estadístico en el análisis de datos y muchos modelos regresores requieren de este concepto debido a la ayuda que trae a la hora de estudiar los datos, algunas características y medidas de este tipo de dsitribuciones son una media y mediana similares o un coeficiente de cúrtosis(medida que analiza las colas de una distribución) cercano a 0, también existen los gráficos de cajas siendo más explicativos que los histogramas y otro tipo de métodos más indagatorios como los siguientes:\n",
     "\n",
    "Shapiro-Wilk: Prueba que utiliza un gráfico conformado por los valores Z(eje X) y las variables originales del conjunto(eje Y). Los valores Z son elaborados mediante la media y la desviación éstandar, cada uno representa una determinada desviación éstandar con respecto a la media. Este gráfico permite visualizar la supuesta normalidad en los datos, detectar outliers y comparar los datos observados con los valores esperados bajo una distrbución normal.\n",
    "\n",
    "Kolmogorov-Smirnov: Prueba que utiliza un gráfico conformado por los valores del conjunto(eje X) y la función de distriubción acumulada o CFD(eje Y). Mediante los valores Z o Estandarizados genera la probabilidad de que un valor aleatorio sea igual o menor a un valor dado. Se compara la CDF de los datos con la de una distribución teórica, la similitud entre ambas líneas puede concluir que los datos son consistente con la distrubción teórica.\n",
    "\n",
    "Estas pruebas que determinan si una distribución es normal o no tienen sus propias hipótesis nulas(H0) que concluyen afirmativamente una distribución Guassiana e hipótesis alternativas(H1) que niegan lo anteriormente dicho, haciendo uso del Valor P para rechazar o aceptar alguna de estas. Por último, La prueba de Shapiro-Wilk es más confiable."
   ]
  },
  {
   "cell_type": "code",
   "execution_count": null,
   "metadata": {},
   "outputs": [],
   "source": [
    "df[\"total_bill_zscore\"] = zscore(df[\"total_bill\"])\n",
    "df[\"tip_zscore\"] = zscore(df[\"tip\"])\n",
    "\n",
    "cdf_total_bill = norm.cdf(df[\"total_bill\"], df[\"total_bill\"].mean(), df[\"total_bill\"].std()) \n",
    "cdf_tip = norm.cdf(df[\"tip\"], df[\"tip\"].mean(), df[\"tip\"].std()) \n",
    "\n",
    "fig = make_subplots(rows=2, cols=2)\n",
    "\n",
    "fig.add_trace(go.Scatter(x=df[\"total_bill_zscore\"], y=df[\"total_bill\"], mode=\"markers\", name=\"Cuentas totales\"), row=1,col=1)\n",
    "fig.add_trace(go.Scatter(x=df[\"tip_zscore\"], y=df[\"tip\"], mode=\"markers\", name=\"Propinas\"), row=1,col=2)\n",
    "fig.add_trace(go.Scatter(x=df[\"total_bill\"].values, y=cdf_total_bill, mode=\"markers\", name=\"Cuentas totales\"), row=2,col=1)\n",
    "fig.add_trace(go.Scatter(x=df[\"tip\"].values, y=cdf_tip, mode=\"markers\", name=\"Propinas\"), row=2,col=2)\n",
    "fig.update_layout(height=600, width=850, title_text=\"Shapiro-wilk & Kolmogorov-smirnov\")\n",
    "\n",
    "_, p_value_var_x = shapiro(df[\"total_bill\"])\n",
    "_, p_value_var_y = shapiro(df[\"tip\"])\n",
    "\n",
    "fig"
   ]
  },
  {
   "cell_type": "markdown",
   "metadata": {},
   "source": [
    "#### Modelo lineal\n",
    "\n",
    "Luego de haber obtenido los distintos resultados como una correlación igual 0.68, varianzas desiguales y una distribución sesgada positivamente se procede a generar el modelo lineal y ponerlo en práctica"
   ]
  },
  {
   "cell_type": "code",
   "execution_count": 19,
   "metadata": {},
   "outputs": [],
   "source": [
    "linear_regression = LinearRegression()\n",
    " \n",
    "total_bill = df[\"total_bill\"].values.reshape((-1,1))\n",
    "\n",
    "model = linear_regression.fit(total_bill,df[\"tip\"])\n",
    "\n",
    "# ------- regresión de nuevos datos -------\n",
    "\n",
    "objects = np.array([[28.15],[12.5],[3.8],[8.25],[19.5],[32.7],[40.9],[45]])\n",
    "\n",
    "predicts = model.predict(objects)"
   ]
  },
  {
   "cell_type": "markdown",
   "metadata": {},
   "source": [
    "#### Dashboard que refleja el EDA desarrollado previo a la creación del modelo y su ajuste sobre los datos"
   ]
  },
  {
   "cell_type": "code",
   "execution_count": null,
   "metadata": {},
   "outputs": [],
   "source": [
    "app = dash.Dash(__name__)\n",
    "\n",
    "app.layout = html.Div(id=\"body\",className=\"e2_body\",children=[\n",
    "    html.H1(\"Propinas\",id=\"titulo\",className=\"e2_title\"),\n",
    "    html.Div(id=\"dashboard\",className=\"e2_dashboard\",children=[\n",
    "        html.Div(id=\"column-1\",className=\"e2_column_1\",children=[\n",
    "            dcc.Dropdown(id=\"dropdown\",className=\"e2_dropdown\",\n",
    "                        options=[\n",
    "                            {\"label\":\"Cuentas totales\",\"value\":\"total_bill\"},\n",
    "                            {\"label\":\"Propinas\",\"value\":\"tip\"}\n",
    "                        ],\n",
    "                        value=\"total_bill\",\n",
    "                        multi=False,\n",
    "                        clearable=False),\n",
    "            html.Div(className=\"e2_div_graphs\",children=[\n",
    "                dcc.Graph(id=\"graph-1\",className=\"e2_graphs\",figure={}), \n",
    "                dcc.Graph(id=\"graph-2\",className=\"e2_graphs\",figure={})\n",
    "            ])\n",
    "        ]),\n",
    "        html.Div(id=\"column-2\",className=\"e2_column_2\",children=[\n",
    "            html.H2(\"Shapiro-Wilk Valor-P\",id=\"p_values_title\",className=\"e2_p_values_title\"),\n",
    "            html.Div(id=\"p_values\",className=\"e2_stats_div\",children=[\n",
    "                html.Div(id=\"p_value_var_x\",className=\"e2_stats\",children=[html.P(f\"Variable X: {round(p_value_var_x,2)}\",style={\"font-size\":\"1em\"})]),\n",
    "                html.Div(id=\"p_value_var_y\",className=\"e2_stats\",children=[html.P(f\"Variable Y: {round(p_value_var_y,2)}\",style={\"font-size\":\"0.98em\"})])\n",
    "            ]),\n",
    "            html.Div(f\"Correlación: {round(corr,2)}\",className=\"e2_corr\",id=\"corr\"),\n",
    "            dcc.Graph(id=\"graph-3\",className=\"e2_graph_3\",figure={})\n",
    "        ]),\n",
    "        html.P(\"Explicación: El ejemplo que se elaboró demuestra su simplicidad, su tamaño es diminuto y no hay más variables para relacionar linealmente ni analizar su distribución, sin embargo si sirve para ser utilizado como una descripción clara de un concepto muy presente. Aunque parezca lógico y simple a primera vista que mientras mayor sea el pago total(variable X) mayor sea la propina(variable Y), esta premonición puede llegar a traer deducciones erróneas, si bien la relación que generan las variables mencionadas es dinámica también he vistos datos particulares que se alejan bastante del patrón lineal, esto debido a que no es solo una cuestión de causa y efecto, sino que también están influenciadas por otras variables que pueden no ser inmediatamente evidentes. Ya fueron visualizadas algunas categorías que denotan su participación en la variabilidad, por ejemplo: los fines de semanas o en el horario de cena las propinas suelen ser mayores. Por ello, a diferencia del ruido, la distorsión generada por el sesgo tiene un origen explicativo y es sistemática.\", className=\"e2_p\")\n",
    "    ])\n",
    "])\n",
    "\n",
    "@app.callback(\n",
    "    [Output(component_id=\"graph-1\",component_property=\"figure\"),\n",
    "    Output(component_id=\"graph-2\",component_property=\"figure\"),\n",
    "    Output(component_id=\"graph-3\",component_property=\"figure\")],\n",
    "    [Input(component_id=\"dropdown\",component_property=\"value\")]\n",
    ")\n",
    "\n",
    "def update_dash(slct_var):\n",
    "    \n",
    "    mean = df[slct_var].mean()\n",
    "    median = df[slct_var].median()\n",
    "    \n",
    "    extr_list = [0]\n",
    "    \n",
    "    var_title = \"Cuentas totales\"\n",
    "    \n",
    "    if slct_var == \"tip\":\n",
    "        extr_list.append(60)\n",
    "        var_title = \"Propinas\"\n",
    "    elif slct_var == \"total_bill\":\n",
    "        extr_list.append(40)\n",
    "        var_title = \"Cuentas totales\"\n",
    "    \n",
    "    histplot = go.Figure(go.Histogram(x=df[slct_var],name=\"Distribución\"))\n",
    "    histplot.add_trace(go.Scatter(x=[mean,mean],y=extr_list,mode=\"lines+markers\",marker_color=\"red\",name=\"Media\"))\n",
    "    histplot.add_trace(go.Scatter(x=[median,median],y=extr_list,mode=\"lines+markers\",marker_color=\"green\",name=\"Mediana\"))\n",
    "    histplot.update_layout(title=\"Histograma\",xaxis_title=var_title)\n",
    "    \n",
    "    boxplot = px.box(df, y=slct_var, points=\"all\", title=\"Gráfico de caja\")\n",
    "    \n",
    "    scatter = go.Figure()\n",
    "    scatter.add_trace(go.Scatter(x=df[\"total_bill\"],y=df[\"tip\"],mode=\"markers\",marker_color=\"blue\",name=\"Propinas reales\"))\n",
    "    scatter.add_trace(go.Scatter(x=objects.reshape(-1),y=predicts,mode=\"lines+markers\",marker_color=\"red\",name=\"Predicciones\"))\n",
    "    scatter.update_layout(title=\"Regresión Lineal\",xaxis_title=\"Cuentas totales\",yaxis_title=\"Propinas\")\n",
    "\n",
    "    return histplot, boxplot, scatter\n",
    "\n",
    "if __name__ == \"__main__\":\n",
    "    app.run_server(debug=False)"
   ]
  },
  {
   "cell_type": "markdown",
   "metadata": {},
   "source": [
    "#### Error de bías\n",
    "También denominado sesgo, es la diferencia entre la suposiciones asumidas por el modelo y los valores verdaderos. Sucede principalmente en algoritmos paramétricos que requieren de ciertas estructuras o relaciones en los datos para una mejor interpretación. Alto bías: requiere más suposiciones a la hora de estimar la función objetivo, ejemplos de algoritmos con alto bías: Regresión Lineal, Regresión Logística, Naive Bayes, algoritmos de series temporales."
   ]
  }
 ],
 "metadata": {
  "kernelspec": {
   "display_name": "Python 3",
   "language": "python",
   "name": "python3"
  },
  "language_info": {
   "codemirror_mode": {
    "name": "ipython",
    "version": 3
   },
   "file_extension": ".py",
   "mimetype": "text/x-python",
   "name": "python",
   "nbconvert_exporter": "python",
   "pygments_lexer": "ipython3",
   "version": "3.12.2"
  }
 },
 "nbformat": 4,
 "nbformat_minor": 2
}
